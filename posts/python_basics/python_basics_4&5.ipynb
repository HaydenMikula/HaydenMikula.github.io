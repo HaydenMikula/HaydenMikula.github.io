{
  "nbformat": 4,
  "nbformat_minor": 0,
  "metadata": {
    "colab": {
      "provenance": []
    },
    "kernelspec": {
      "name": "python3",
      "display_name": "Python 3"
    },
    "language_info": {
      "name": "python"
    }
  },
  "cells": [
    {
      "cell_type": "markdown",
      "source": [
        "---\n",
        "title: \"Python Basics\"\n",
        "format: html\n",
        "date: 2025-02-17\n",
        "categories: [Python]\n",
        "image: uses-of-python.jpg\n",
        "\n",
        "toc: true\n",
        "---"
      ],
      "metadata": {
        "id": "8Uh4ZGUrr9-s"
      }
    },
    {
      "cell_type": "markdown",
      "source": [
        "## Values, Variables, and Types\n",
        "\n",
        "A 'value' in Python is any amount of data, no matter what type\n",
        "\n",
        "Examples of values:"
      ],
      "metadata": {
        "id": "o8iDz1dCsQan"
      }
    },
    {
      "cell_type": "code",
      "source": [
        "10 #Integer\n",
        "'Hello' # String\n",
        "5.71 # Float\n",
        "True # Bool"
      ],
      "metadata": {
        "id": "cKM7udnisCzO"
      },
      "execution_count": null,
      "outputs": []
    },
    {
      "cell_type": "markdown",
      "source": [
        "When these values are assigned to a data container, they become 'variables'\n",
        "\n",
        "Variables are capable of storing one or more values for use in data collection, transformation, etc."
      ],
      "metadata": {
        "id": "DwXeoP3xsV7E"
      }
    },
    {
      "cell_type": "code",
      "source": [
        "a = 10 # 'a' is the name of the variable\n",
        "print(a)\n",
        "example_list = [20, 9, True, 'string']"
      ],
      "metadata": {
        "colab": {
          "base_uri": "https://localhost:8080/"
        },
        "id": "PE4_msJrsYB1",
        "outputId": "1e1d8734-85d0-4a61-b74a-a848aad49f3e"
      },
      "execution_count": 5,
      "outputs": [
        {
          "output_type": "stream",
          "name": "stdout",
          "text": [
            "10\n"
          ]
        }
      ]
    },
    {
      "cell_type": "markdown",
      "source": [
        "## Data Frames\n",
        "\n",
        "A 'data.frame' is a format of data structure that stores data using observations (rows) and variables (columns). Each individual value corresponds to a 'cell', which has meaning based on its associated row index and variable.\n",
        "\n",
        "Example:"
      ],
      "metadata": {
        "id": "aw-WqNFLsaKN"
      }
    },
    {
      "cell_type": "code",
      "source": [
        "import pandas as pd\n",
        "nba = pd.read_csv(\"https://bcdanl.github.io/data/nba.csv\")\n",
        "nba"
      ],
      "metadata": {
        "colab": {
          "base_uri": "https://localhost:8080/",
          "height": 423
        },
        "id": "HVqVaCrSt6uq",
        "outputId": "2fe9361a-eb57-4ac5-8f3a-1c1794cccf9e"
      },
      "execution_count": 1,
      "outputs": [
        {
          "output_type": "execute_result",
          "data": {
            "text/plain": [
              "               Name                 Team Position  Birthday    Salary\n",
              "0      Shake Milton   Philadelphia 76ers       SG   9/26/96   1445697\n",
              "1    Christian Wood      Detroit Pistons       PF   9/27/95   1645357\n",
              "2     PJ Washington    Charlotte Hornets       PF   8/23/98   3831840\n",
              "3      Derrick Rose      Detroit Pistons       PG   10/4/88   7317074\n",
              "4     Marial Shayok   Philadelphia 76ers        G   7/26/95     79568\n",
              "..              ...                  ...      ...       ...       ...\n",
              "445   Austin Rivers      Houston Rockets       PG    8/1/92   2174310\n",
              "446     Harry Giles     Sacramento Kings       PF   4/22/98   2578800\n",
              "447     Robin Lopez      Milwaukee Bucks        C    4/1/88   4767000\n",
              "448   Collin Sexton  Cleveland Cavaliers       PG    1/4/99   4764960\n",
              "449     Ricky Rubio         Phoenix Suns       PG  10/21/90  16200000\n",
              "\n",
              "[450 rows x 5 columns]"
            ],
            "text/html": [
              "\n",
              "  <div id=\"df-6d40084e-185d-4ce7-9964-f695aac339ba\" class=\"colab-df-container\">\n",
              "    <div>\n",
              "<style scoped>\n",
              "    .dataframe tbody tr th:only-of-type {\n",
              "        vertical-align: middle;\n",
              "    }\n",
              "\n",
              "    .dataframe tbody tr th {\n",
              "        vertical-align: top;\n",
              "    }\n",
              "\n",
              "    .dataframe thead th {\n",
              "        text-align: right;\n",
              "    }\n",
              "</style>\n",
              "<table border=\"1\" class=\"dataframe\">\n",
              "  <thead>\n",
              "    <tr style=\"text-align: right;\">\n",
              "      <th></th>\n",
              "      <th>Name</th>\n",
              "      <th>Team</th>\n",
              "      <th>Position</th>\n",
              "      <th>Birthday</th>\n",
              "      <th>Salary</th>\n",
              "    </tr>\n",
              "  </thead>\n",
              "  <tbody>\n",
              "    <tr>\n",
              "      <th>0</th>\n",
              "      <td>Shake Milton</td>\n",
              "      <td>Philadelphia 76ers</td>\n",
              "      <td>SG</td>\n",
              "      <td>9/26/96</td>\n",
              "      <td>1445697</td>\n",
              "    </tr>\n",
              "    <tr>\n",
              "      <th>1</th>\n",
              "      <td>Christian Wood</td>\n",
              "      <td>Detroit Pistons</td>\n",
              "      <td>PF</td>\n",
              "      <td>9/27/95</td>\n",
              "      <td>1645357</td>\n",
              "    </tr>\n",
              "    <tr>\n",
              "      <th>2</th>\n",
              "      <td>PJ Washington</td>\n",
              "      <td>Charlotte Hornets</td>\n",
              "      <td>PF</td>\n",
              "      <td>8/23/98</td>\n",
              "      <td>3831840</td>\n",
              "    </tr>\n",
              "    <tr>\n",
              "      <th>3</th>\n",
              "      <td>Derrick Rose</td>\n",
              "      <td>Detroit Pistons</td>\n",
              "      <td>PG</td>\n",
              "      <td>10/4/88</td>\n",
              "      <td>7317074</td>\n",
              "    </tr>\n",
              "    <tr>\n",
              "      <th>4</th>\n",
              "      <td>Marial Shayok</td>\n",
              "      <td>Philadelphia 76ers</td>\n",
              "      <td>G</td>\n",
              "      <td>7/26/95</td>\n",
              "      <td>79568</td>\n",
              "    </tr>\n",
              "    <tr>\n",
              "      <th>...</th>\n",
              "      <td>...</td>\n",
              "      <td>...</td>\n",
              "      <td>...</td>\n",
              "      <td>...</td>\n",
              "      <td>...</td>\n",
              "    </tr>\n",
              "    <tr>\n",
              "      <th>445</th>\n",
              "      <td>Austin Rivers</td>\n",
              "      <td>Houston Rockets</td>\n",
              "      <td>PG</td>\n",
              "      <td>8/1/92</td>\n",
              "      <td>2174310</td>\n",
              "    </tr>\n",
              "    <tr>\n",
              "      <th>446</th>\n",
              "      <td>Harry Giles</td>\n",
              "      <td>Sacramento Kings</td>\n",
              "      <td>PF</td>\n",
              "      <td>4/22/98</td>\n",
              "      <td>2578800</td>\n",
              "    </tr>\n",
              "    <tr>\n",
              "      <th>447</th>\n",
              "      <td>Robin Lopez</td>\n",
              "      <td>Milwaukee Bucks</td>\n",
              "      <td>C</td>\n",
              "      <td>4/1/88</td>\n",
              "      <td>4767000</td>\n",
              "    </tr>\n",
              "    <tr>\n",
              "      <th>448</th>\n",
              "      <td>Collin Sexton</td>\n",
              "      <td>Cleveland Cavaliers</td>\n",
              "      <td>PG</td>\n",
              "      <td>1/4/99</td>\n",
              "      <td>4764960</td>\n",
              "    </tr>\n",
              "    <tr>\n",
              "      <th>449</th>\n",
              "      <td>Ricky Rubio</td>\n",
              "      <td>Phoenix Suns</td>\n",
              "      <td>PG</td>\n",
              "      <td>10/21/90</td>\n",
              "      <td>16200000</td>\n",
              "    </tr>\n",
              "  </tbody>\n",
              "</table>\n",
              "<p>450 rows × 5 columns</p>\n",
              "</div>\n",
              "    <div class=\"colab-df-buttons\">\n",
              "\n",
              "  <div class=\"colab-df-container\">\n",
              "    <button class=\"colab-df-convert\" onclick=\"convertToInteractive('df-6d40084e-185d-4ce7-9964-f695aac339ba')\"\n",
              "            title=\"Convert this dataframe to an interactive table.\"\n",
              "            style=\"display:none;\">\n",
              "\n",
              "  <svg xmlns=\"http://www.w3.org/2000/svg\" height=\"24px\" viewBox=\"0 -960 960 960\">\n",
              "    <path d=\"M120-120v-720h720v720H120Zm60-500h600v-160H180v160Zm220 220h160v-160H400v160Zm0 220h160v-160H400v160ZM180-400h160v-160H180v160Zm440 0h160v-160H620v160ZM180-180h160v-160H180v160Zm440 0h160v-160H620v160Z\"/>\n",
              "  </svg>\n",
              "    </button>\n",
              "\n",
              "  <style>\n",
              "    .colab-df-container {\n",
              "      display:flex;\n",
              "      gap: 12px;\n",
              "    }\n",
              "\n",
              "    .colab-df-convert {\n",
              "      background-color: #E8F0FE;\n",
              "      border: none;\n",
              "      border-radius: 50%;\n",
              "      cursor: pointer;\n",
              "      display: none;\n",
              "      fill: #1967D2;\n",
              "      height: 32px;\n",
              "      padding: 0 0 0 0;\n",
              "      width: 32px;\n",
              "    }\n",
              "\n",
              "    .colab-df-convert:hover {\n",
              "      background-color: #E2EBFA;\n",
              "      box-shadow: 0px 1px 2px rgba(60, 64, 67, 0.3), 0px 1px 3px 1px rgba(60, 64, 67, 0.15);\n",
              "      fill: #174EA6;\n",
              "    }\n",
              "\n",
              "    .colab-df-buttons div {\n",
              "      margin-bottom: 4px;\n",
              "    }\n",
              "\n",
              "    [theme=dark] .colab-df-convert {\n",
              "      background-color: #3B4455;\n",
              "      fill: #D2E3FC;\n",
              "    }\n",
              "\n",
              "    [theme=dark] .colab-df-convert:hover {\n",
              "      background-color: #434B5C;\n",
              "      box-shadow: 0px 1px 3px 1px rgba(0, 0, 0, 0.15);\n",
              "      filter: drop-shadow(0px 1px 2px rgba(0, 0, 0, 0.3));\n",
              "      fill: #FFFFFF;\n",
              "    }\n",
              "  </style>\n",
              "\n",
              "    <script>\n",
              "      const buttonEl =\n",
              "        document.querySelector('#df-6d40084e-185d-4ce7-9964-f695aac339ba button.colab-df-convert');\n",
              "      buttonEl.style.display =\n",
              "        google.colab.kernel.accessAllowed ? 'block' : 'none';\n",
              "\n",
              "      async function convertToInteractive(key) {\n",
              "        const element = document.querySelector('#df-6d40084e-185d-4ce7-9964-f695aac339ba');\n",
              "        const dataTable =\n",
              "          await google.colab.kernel.invokeFunction('convertToInteractive',\n",
              "                                                    [key], {});\n",
              "        if (!dataTable) return;\n",
              "\n",
              "        const docLinkHtml = 'Like what you see? Visit the ' +\n",
              "          '<a target=\"_blank\" href=https://colab.research.google.com/notebooks/data_table.ipynb>data table notebook</a>'\n",
              "          + ' to learn more about interactive tables.';\n",
              "        element.innerHTML = '';\n",
              "        dataTable['output_type'] = 'display_data';\n",
              "        await google.colab.output.renderOutput(dataTable, element);\n",
              "        const docLink = document.createElement('div');\n",
              "        docLink.innerHTML = docLinkHtml;\n",
              "        element.appendChild(docLink);\n",
              "      }\n",
              "    </script>\n",
              "  </div>\n",
              "\n",
              "\n",
              "<div id=\"df-bbbfc9ee-0fd8-4453-bac8-4200c0488c36\">\n",
              "  <button class=\"colab-df-quickchart\" onclick=\"quickchart('df-bbbfc9ee-0fd8-4453-bac8-4200c0488c36')\"\n",
              "            title=\"Suggest charts\"\n",
              "            style=\"display:none;\">\n",
              "\n",
              "<svg xmlns=\"http://www.w3.org/2000/svg\" height=\"24px\"viewBox=\"0 0 24 24\"\n",
              "     width=\"24px\">\n",
              "    <g>\n",
              "        <path d=\"M19 3H5c-1.1 0-2 .9-2 2v14c0 1.1.9 2 2 2h14c1.1 0 2-.9 2-2V5c0-1.1-.9-2-2-2zM9 17H7v-7h2v7zm4 0h-2V7h2v10zm4 0h-2v-4h2v4z\"/>\n",
              "    </g>\n",
              "</svg>\n",
              "  </button>\n",
              "\n",
              "<style>\n",
              "  .colab-df-quickchart {\n",
              "      --bg-color: #E8F0FE;\n",
              "      --fill-color: #1967D2;\n",
              "      --hover-bg-color: #E2EBFA;\n",
              "      --hover-fill-color: #174EA6;\n",
              "      --disabled-fill-color: #AAA;\n",
              "      --disabled-bg-color: #DDD;\n",
              "  }\n",
              "\n",
              "  [theme=dark] .colab-df-quickchart {\n",
              "      --bg-color: #3B4455;\n",
              "      --fill-color: #D2E3FC;\n",
              "      --hover-bg-color: #434B5C;\n",
              "      --hover-fill-color: #FFFFFF;\n",
              "      --disabled-bg-color: #3B4455;\n",
              "      --disabled-fill-color: #666;\n",
              "  }\n",
              "\n",
              "  .colab-df-quickchart {\n",
              "    background-color: var(--bg-color);\n",
              "    border: none;\n",
              "    border-radius: 50%;\n",
              "    cursor: pointer;\n",
              "    display: none;\n",
              "    fill: var(--fill-color);\n",
              "    height: 32px;\n",
              "    padding: 0;\n",
              "    width: 32px;\n",
              "  }\n",
              "\n",
              "  .colab-df-quickchart:hover {\n",
              "    background-color: var(--hover-bg-color);\n",
              "    box-shadow: 0 1px 2px rgba(60, 64, 67, 0.3), 0 1px 3px 1px rgba(60, 64, 67, 0.15);\n",
              "    fill: var(--button-hover-fill-color);\n",
              "  }\n",
              "\n",
              "  .colab-df-quickchart-complete:disabled,\n",
              "  .colab-df-quickchart-complete:disabled:hover {\n",
              "    background-color: var(--disabled-bg-color);\n",
              "    fill: var(--disabled-fill-color);\n",
              "    box-shadow: none;\n",
              "  }\n",
              "\n",
              "  .colab-df-spinner {\n",
              "    border: 2px solid var(--fill-color);\n",
              "    border-color: transparent;\n",
              "    border-bottom-color: var(--fill-color);\n",
              "    animation:\n",
              "      spin 1s steps(1) infinite;\n",
              "  }\n",
              "\n",
              "  @keyframes spin {\n",
              "    0% {\n",
              "      border-color: transparent;\n",
              "      border-bottom-color: var(--fill-color);\n",
              "      border-left-color: var(--fill-color);\n",
              "    }\n",
              "    20% {\n",
              "      border-color: transparent;\n",
              "      border-left-color: var(--fill-color);\n",
              "      border-top-color: var(--fill-color);\n",
              "    }\n",
              "    30% {\n",
              "      border-color: transparent;\n",
              "      border-left-color: var(--fill-color);\n",
              "      border-top-color: var(--fill-color);\n",
              "      border-right-color: var(--fill-color);\n",
              "    }\n",
              "    40% {\n",
              "      border-color: transparent;\n",
              "      border-right-color: var(--fill-color);\n",
              "      border-top-color: var(--fill-color);\n",
              "    }\n",
              "    60% {\n",
              "      border-color: transparent;\n",
              "      border-right-color: var(--fill-color);\n",
              "    }\n",
              "    80% {\n",
              "      border-color: transparent;\n",
              "      border-right-color: var(--fill-color);\n",
              "      border-bottom-color: var(--fill-color);\n",
              "    }\n",
              "    90% {\n",
              "      border-color: transparent;\n",
              "      border-bottom-color: var(--fill-color);\n",
              "    }\n",
              "  }\n",
              "</style>\n",
              "\n",
              "  <script>\n",
              "    async function quickchart(key) {\n",
              "      const quickchartButtonEl =\n",
              "        document.querySelector('#' + key + ' button');\n",
              "      quickchartButtonEl.disabled = true;  // To prevent multiple clicks.\n",
              "      quickchartButtonEl.classList.add('colab-df-spinner');\n",
              "      try {\n",
              "        const charts = await google.colab.kernel.invokeFunction(\n",
              "            'suggestCharts', [key], {});\n",
              "      } catch (error) {\n",
              "        console.error('Error during call to suggestCharts:', error);\n",
              "      }\n",
              "      quickchartButtonEl.classList.remove('colab-df-spinner');\n",
              "      quickchartButtonEl.classList.add('colab-df-quickchart-complete');\n",
              "    }\n",
              "    (() => {\n",
              "      let quickchartButtonEl =\n",
              "        document.querySelector('#df-bbbfc9ee-0fd8-4453-bac8-4200c0488c36 button');\n",
              "      quickchartButtonEl.style.display =\n",
              "        google.colab.kernel.accessAllowed ? 'block' : 'none';\n",
              "    })();\n",
              "  </script>\n",
              "</div>\n",
              "\n",
              "  <div id=\"id_693ae484-91d9-4eaf-8017-5a5bb855a125\">\n",
              "    <style>\n",
              "      .colab-df-generate {\n",
              "        background-color: #E8F0FE;\n",
              "        border: none;\n",
              "        border-radius: 50%;\n",
              "        cursor: pointer;\n",
              "        display: none;\n",
              "        fill: #1967D2;\n",
              "        height: 32px;\n",
              "        padding: 0 0 0 0;\n",
              "        width: 32px;\n",
              "      }\n",
              "\n",
              "      .colab-df-generate:hover {\n",
              "        background-color: #E2EBFA;\n",
              "        box-shadow: 0px 1px 2px rgba(60, 64, 67, 0.3), 0px 1px 3px 1px rgba(60, 64, 67, 0.15);\n",
              "        fill: #174EA6;\n",
              "      }\n",
              "\n",
              "      [theme=dark] .colab-df-generate {\n",
              "        background-color: #3B4455;\n",
              "        fill: #D2E3FC;\n",
              "      }\n",
              "\n",
              "      [theme=dark] .colab-df-generate:hover {\n",
              "        background-color: #434B5C;\n",
              "        box-shadow: 0px 1px 3px 1px rgba(0, 0, 0, 0.15);\n",
              "        filter: drop-shadow(0px 1px 2px rgba(0, 0, 0, 0.3));\n",
              "        fill: #FFFFFF;\n",
              "      }\n",
              "    </style>\n",
              "    <button class=\"colab-df-generate\" onclick=\"generateWithVariable('nba')\"\n",
              "            title=\"Generate code using this dataframe.\"\n",
              "            style=\"display:none;\">\n",
              "\n",
              "  <svg xmlns=\"http://www.w3.org/2000/svg\" height=\"24px\"viewBox=\"0 0 24 24\"\n",
              "       width=\"24px\">\n",
              "    <path d=\"M7,19H8.4L18.45,9,17,7.55,7,17.6ZM5,21V16.75L18.45,3.32a2,2,0,0,1,2.83,0l1.4,1.43a1.91,1.91,0,0,1,.58,1.4,1.91,1.91,0,0,1-.58,1.4L9.25,21ZM18.45,9,17,7.55Zm-12,3A5.31,5.31,0,0,0,4.9,8.1,5.31,5.31,0,0,0,1,6.5,5.31,5.31,0,0,0,4.9,4.9,5.31,5.31,0,0,0,6.5,1,5.31,5.31,0,0,0,8.1,4.9,5.31,5.31,0,0,0,12,6.5,5.46,5.46,0,0,0,6.5,12Z\"/>\n",
              "  </svg>\n",
              "    </button>\n",
              "    <script>\n",
              "      (() => {\n",
              "      const buttonEl =\n",
              "        document.querySelector('#id_693ae484-91d9-4eaf-8017-5a5bb855a125 button.colab-df-generate');\n",
              "      buttonEl.style.display =\n",
              "        google.colab.kernel.accessAllowed ? 'block' : 'none';\n",
              "\n",
              "      buttonEl.onclick = () => {\n",
              "        google.colab.notebook.generateWithVariable('nba');\n",
              "      }\n",
              "      })();\n",
              "    </script>\n",
              "  </div>\n",
              "\n",
              "    </div>\n",
              "  </div>\n"
            ],
            "application/vnd.google.colaboratory.intrinsic+json": {
              "type": "dataframe",
              "variable_name": "nba",
              "summary": "{\n  \"name\": \"nba\",\n  \"rows\": 450,\n  \"fields\": [\n    {\n      \"column\": \"Name\",\n      \"properties\": {\n        \"dtype\": \"string\",\n        \"num_unique_values\": 450,\n        \"samples\": [\n          \"Michael Kidd-Gilchrist\",\n          \"Melvin Frazier\",\n          \"Devin Booker\"\n        ],\n        \"semantic_type\": \"\",\n        \"description\": \"\"\n      }\n    },\n    {\n      \"column\": \"Team\",\n      \"properties\": {\n        \"dtype\": \"category\",\n        \"num_unique_values\": 30,\n        \"samples\": [\n          \"Minnesota Timberwolves\",\n          \"New Orleans Pelicans\",\n          \"Orlando Magic\"\n        ],\n        \"semantic_type\": \"\",\n        \"description\": \"\"\n      }\n    },\n    {\n      \"column\": \"Position\",\n      \"properties\": {\n        \"dtype\": \"category\",\n        \"num_unique_values\": 9,\n        \"samples\": [\n          \"F\",\n          \"PF\",\n          \"C\"\n        ],\n        \"semantic_type\": \"\",\n        \"description\": \"\"\n      }\n    },\n    {\n      \"column\": \"Birthday\",\n      \"properties\": {\n        \"dtype\": \"object\",\n        \"num_unique_values\": 430,\n        \"samples\": [\n          \"7/10/85\",\n          \"8/12/89\",\n          \"7/12/98\"\n        ],\n        \"semantic_type\": \"\",\n        \"description\": \"\"\n      }\n    },\n    {\n      \"column\": \"Salary\",\n      \"properties\": {\n        \"dtype\": \"number\",\n        \"std\": 9288810,\n        \"min\": 79568,\n        \"max\": 40231758,\n        \"num_unique_values\": 269,\n        \"samples\": [\n          2028594,\n          3581986,\n          27093019\n        ],\n        \"semantic_type\": \"\",\n        \"description\": \"\"\n      }\n    }\n  ]\n}"
            }
          },
          "metadata": {},
          "execution_count": 1
        }
      ]
    },
    {
      "cell_type": "markdown",
      "source": [
        "## Lists, Dictionaries, and Slicing\n",
        "\n",
        "As previously shown, a 'list' is a data container that works in a singlular **series** of data (i.e. A single row of values). The values in a list are able to be gathered with [] (see below):"
      ],
      "metadata": {
        "id": "XmfGSNFquXhH"
      }
    },
    {
      "cell_type": "code",
      "source": [
        "example_list"
      ],
      "metadata": {
        "colab": {
          "base_uri": "https://localhost:8080/"
        },
        "id": "uoSFoWYmvOsB",
        "outputId": "d26f57e8-d486-4f37-d65e-eee4122f1ffb"
      },
      "execution_count": 11,
      "outputs": [
        {
          "output_type": "execute_result",
          "data": {
            "text/plain": [
              "[20, 9, True, 'string']"
            ]
          },
          "metadata": {},
          "execution_count": 11
        }
      ]
    },
    {
      "cell_type": "code",
      "source": [
        "example_list[0] # Produces the FIRST value in the list, because Python begins counting at 0 instead of 1"
      ],
      "metadata": {
        "colab": {
          "base_uri": "https://localhost:8080/"
        },
        "id": "NTxhWen2wVF-",
        "outputId": "4e1a0233-ecec-4fca-9a09-2fe288ef70d5"
      },
      "execution_count": 12,
      "outputs": [
        {
          "output_type": "execute_result",
          "data": {
            "text/plain": [
              "20"
            ]
          },
          "metadata": {},
          "execution_count": 12
        }
      ]
    },
    {
      "cell_type": "markdown",
      "source": [
        "A 'dictionary', in comparison, is a list that utilizes a key-value pair to identify values rather than a numerical index:"
      ],
      "metadata": {
        "id": "TVPzqMhnvhUy"
      }
    },
    {
      "cell_type": "code",
      "source": [
        "example_dict = {'a' : 10, 'b' : 14, 'c' : 'Hello'}\n",
        "  #example_dict[1] would not work, because dictionaries do not have numerical indexes\n",
        "\n",
        "print(example_dict.keys())\n",
        "print(example_dict.values())\n",
        "\n",
        "example_dict['b']"
      ],
      "metadata": {
        "colab": {
          "base_uri": "https://localhost:8080/"
        },
        "id": "v-5bJJcXwdi-",
        "outputId": "459e7bb7-7fb0-4a6e-d984-9801c965e167"
      },
      "execution_count": 41,
      "outputs": [
        {
          "output_type": "stream",
          "name": "stdout",
          "text": [
            "dict_keys(['a', 'b', 'c'])\n",
            "dict_values([10, 14, 'Hello'])\n"
          ]
        },
        {
          "output_type": "execute_result",
          "data": {
            "text/plain": [
              "14"
            ]
          },
          "metadata": {},
          "execution_count": 41
        }
      ]
    },
    {
      "cell_type": "markdown",
      "source": [
        "Strings and Lists can be 'sliced' with []\n",
        "\n",
        "- For strings, their characters are sliced\n",
        "- For lists, their individual values are sliced\n",
        "\n",
        "Kinds of slicing:\n",
        "\n",
        "- [ _ :]\n",
        "  - Slices from the indicated position to the end\n",
        "- [ : _ ]\n",
        "  - Slices from the beginning to the indicated position\n",
        "- [ _ : _ ]\n",
        "  - Slices from the (left) indicated position to the (right) indicated position\n",
        "    - Can add an additional ': _' at the end of any of these slicing methods to indicate the 'step' of the slicing (eg. A step of '2' = every other value)."
      ],
      "metadata": {
        "id": "GsGZ71Av6_8V"
      }
    },
    {
      "cell_type": "code",
      "source": [
        "eg_string = \"Hello, I am a string.\"\n",
        "print(eg_string[4]) # 5th character, starting at 0\n",
        "\n",
        "print(example_list[-1]) # Last item in the list\n",
        "\n",
        "print(eg_string[3:13]) # Characters starting at position 3 and ending at position 13"
      ],
      "metadata": {
        "colab": {
          "base_uri": "https://localhost:8080/"
        },
        "id": "6EsN5xkG7o9l",
        "outputId": "5a4267db-8278-432c-800b-271215b5087f"
      },
      "execution_count": 89,
      "outputs": [
        {
          "output_type": "stream",
          "name": "stdout",
          "text": [
            "o\n",
            "string\n",
            "lo, I am a\n"
          ]
        }
      ]
    },
    {
      "cell_type": "markdown",
      "source": [
        "## Operators\n",
        "\n",
        "Python includes symbols that work as operations that act on data, including:\n",
        "\n",
        "- '+' for addition\n",
        "- '-' for subtraction\n",
        "- '*' for multiplication\n",
        "- '/' for division\n",
        "- '**' for exponents\n",
        "- '//' for integer division\n",
        "\n",
        "These operations work on most data types, though some work better than others. For example:"
      ],
      "metadata": {
        "id": "XEvHkJg3xR5Q"
      }
    },
    {
      "cell_type": "code",
      "source": [
        "string_1 = \"My name is\"\n",
        "string_2 = \"Steven\"\n",
        "print(string_1 + \" \" + string_2)\n",
        "  #string_1 - string_2 would not work; subtraction is not supported by strings\n",
        "print((string_2 + ' ') * 4)"
      ],
      "metadata": {
        "colab": {
          "base_uri": "https://localhost:8080/"
        },
        "id": "SWzHQc6UyYg3",
        "outputId": "f9ad02fb-52ae-4506-980a-3acf7f63a839"
      },
      "execution_count": 35,
      "outputs": [
        {
          "output_type": "stream",
          "name": "stdout",
          "text": [
            "My name is Steven\n",
            "Steven Steven Steven Steven \n"
          ]
        }
      ]
    },
    {
      "cell_type": "markdown",
      "source": [
        "## Value Conversion\n",
        "\n",
        "We are able to alter a value's 'type' with built-in Python functions, such as:\n",
        "\n",
        "- int()\n",
        "- float()\n",
        "- str()\n",
        "- bool()"
      ],
      "metadata": {
        "id": "JjBgF_qeza3a"
      }
    },
    {
      "cell_type": "code",
      "source": [
        "eg_int = int(29.75)\n",
        "eg_float = float(10)\n",
        "eg_str = str(92)\n",
        "eg_bool = bool(0)\n",
        "\n",
        "print(eg_int)\n",
        "print(eg_float)\n",
        "print(eg_str)\n",
        "print(eg_bool)"
      ],
      "metadata": {
        "colab": {
          "base_uri": "https://localhost:8080/"
        },
        "id": "RAXNprN30dx5",
        "outputId": "ef432bff-d249-4111-ff71-d5edd8e7c1c2"
      },
      "execution_count": 62,
      "outputs": [
        {
          "output_type": "stream",
          "name": "stdout",
          "text": [
            "29\n",
            "10.0\n",
            "92\n",
            "False\n"
          ]
        }
      ]
    },
    {
      "cell_type": "markdown",
      "source": [
        "## Boolean Conditions\n",
        "\n",
        "Boolean conditions are operations which result in a boolean 'True' or 'False' value, and are used to either filter the data we are looking at or proceed with an action based on the True/False value of the condition."
      ],
      "metadata": {
        "id": "yQYtMJqb2dDv"
      }
    },
    {
      "cell_type": "code",
      "source": [
        "print(10 == 20) # False\n",
        "print(20 == '20') # False"
      ],
      "metadata": {
        "colab": {
          "base_uri": "https://localhost:8080/"
        },
        "id": "8AIE5gHC3MZE",
        "outputId": "92cd170f-9c5b-4188-ff3d-ee49a037df8c"
      },
      "execution_count": 65,
      "outputs": [
        {
          "output_type": "stream",
          "name": "stdout",
          "text": [
            "False\n",
            "False\n"
          ]
        }
      ]
    },
    {
      "cell_type": "markdown",
      "source": [
        "Kinds of conditions (using x/y as placeholders for data):\n",
        "\n",
        "- x **and** y\n",
        "  - \"Are both x and y True?\"\n",
        "- x **or** y\n",
        "  - \"Is either x or y True?\"\n",
        "- **not** x\n",
        "  - \"Is x False?\"\n",
        "- x **in** y\n",
        "  - \"Does x exist within y?\"\n",
        "- x **==** y\n",
        "  - \"Is x equal to y?\"\n",
        "- x **!=** y\n",
        "  - \"Is x not equal to y?\"\n",
        "- x **>** y\n",
        "  - \"Is x greater than y?\"\n",
        "- x **>=** y\n",
        "  - \"Is x greater than or equal to y?\"\n",
        "- x **<** y\n",
        "  - \"Is x less than y?\"\n",
        "- x **<=** y\n",
        "  - \"Is x less than or equal to y?\""
      ],
      "metadata": {
        "id": "_sMMgCVk3iQV"
      }
    },
    {
      "cell_type": "markdown",
      "source": [
        "'if' statements are lines of code that run when the outlined condition is met"
      ],
      "metadata": {
        "id": "7OPzguAC46Ji"
      }
    },
    {
      "cell_type": "code",
      "source": [
        "num = 20\n",
        "if num == 20:\n",
        "  print('That is correct!')"
      ],
      "metadata": {
        "colab": {
          "base_uri": "https://localhost:8080/"
        },
        "id": "xCmwwldy5E4Z",
        "outputId": "fc4bac9e-d9fb-45f8-e003-52003917d01f"
      },
      "execution_count": 66,
      "outputs": [
        {
          "output_type": "stream",
          "name": "stdout",
          "text": [
            "That is correct!\n"
          ]
        }
      ]
    },
    {
      "cell_type": "markdown",
      "source": [
        "'else' statements are lines of code that are run when the outlined condition of an 'if' statement is NOT met"
      ],
      "metadata": {
        "id": "C-nVaywK5WeJ"
      }
    },
    {
      "cell_type": "code",
      "source": [
        "num = 15\n",
        "if num == 20:\n",
        "  print('That is correct!')\n",
        "else:\n",
        "  print('That is incorrect...')"
      ],
      "metadata": {
        "colab": {
          "base_uri": "https://localhost:8080/"
        },
        "id": "y6tWI8VC5ezF",
        "outputId": "e1d13294-25d1-426f-92c6-4c4181398c57"
      },
      "execution_count": 67,
      "outputs": [
        {
          "output_type": "stream",
          "name": "stdout",
          "text": [
            "That is incorrect...\n"
          ]
        }
      ]
    },
    {
      "cell_type": "markdown",
      "source": [
        "'elif' statements are lines of code that are run when the previous 'if' or 'elif' condition is not met"
      ],
      "metadata": {
        "id": "XAz1RZI75uLh"
      }
    },
    {
      "cell_type": "code",
      "source": [
        "num = 0\n",
        "if num == 20:\n",
        "  print('That is correct!')\n",
        "elif 18 <= num < 20:\n",
        "  print(\"You're getting closer.\")\n",
        "elif num > 20:\n",
        "  print('Too far!')\n",
        "else:\n",
        "  print(\"Too low!\")"
      ],
      "metadata": {
        "colab": {
          "base_uri": "https://localhost:8080/"
        },
        "id": "onEeb3xK55HF",
        "outputId": "12e6fd9f-4b72-4cf7-a1f5-ae37ab47ca03"
      },
      "execution_count": 81,
      "outputs": [
        {
          "output_type": "stream",
          "name": "stdout",
          "text": [
            "Too low!\n"
          ]
        }
      ]
    },
    {
      "cell_type": "markdown",
      "source": [
        "## While and For loops\n",
        "\n",
        "- A 'while' loop carries out a set of instructions for as long as a certain condition is met\n",
        "- A 'for' loop iterates on a data container and carries out a set of instructions for as many times as the container is iterated\n",
        "\n",
        "  - 'continue' is used to skip to the end of the loop\n",
        "  - 'break' is used to stop the loop"
      ],
      "metadata": {
        "id": "pgb33nAO96nG"
      }
    },
    {
      "cell_type": "code",
      "source": [
        "count = 1\n",
        "while count <= 5:\n",
        "    print(count)\n",
        "    count += 1"
      ],
      "metadata": {
        "colab": {
          "base_uri": "https://localhost:8080/"
        },
        "id": "xgdeqYTf-cSQ",
        "outputId": "4b504d3b-4bb1-44e2-aff2-745801a404de"
      },
      "execution_count": 91,
      "outputs": [
        {
          "output_type": "stream",
          "name": "stdout",
          "text": [
            "1\n",
            "2\n",
            "3\n",
            "4\n",
            "5\n"
          ]
        }
      ]
    },
    {
      "cell_type": "code",
      "source": [
        "word = 'thud'\n",
        "for letter in word:\n",
        "    print(letter)"
      ],
      "metadata": {
        "colab": {
          "base_uri": "https://localhost:8080/"
        },
        "id": "s-IgPcOc-hlK",
        "outputId": "b56a83a3-b1f2-4b00-efaf-fb11e28aeefb"
      },
      "execution_count": 92,
      "outputs": [
        {
          "output_type": "stream",
          "name": "stdout",
          "text": [
            "t\n",
            "h\n",
            "u\n",
            "d\n",
            "1\n",
            "2\n",
            "3\n",
            "4\n",
            "5\n",
            "6\n",
            "7\n",
            "8\n",
            "9\n"
          ]
        }
      ]
    },
    {
      "cell_type": "code",
      "source": [
        "word = 'thud'\n",
        "for letter in word:\n",
        "    if letter == 'u':\n",
        "        break # Ends the loop before it can finish fully\n",
        "    print(letter)"
      ],
      "metadata": {
        "colab": {
          "base_uri": "https://localhost:8080/"
        },
        "id": "KUDWkW6K_Jg-",
        "outputId": "82b7ace8-9bcb-48ef-9cac-8b4d26d2944a"
      },
      "execution_count": 95,
      "outputs": [
        {
          "output_type": "stream",
          "name": "stdout",
          "text": [
            "t\n",
            "h\n"
          ]
        }
      ]
    },
    {
      "cell_type": "code",
      "source": [
        "word = 'thud'\n",
        "for letter in word:\n",
        "    if letter == 'u':\n",
        "        continue # Skips over the print() function for 'u'\n",
        "    print(letter)"
      ],
      "metadata": {
        "colab": {
          "base_uri": "https://localhost:8080/"
        },
        "id": "FDjK8BA2_aXD",
        "outputId": "64b01937-ed71-4222-9ba7-e1be9645e8ee"
      },
      "execution_count": 96,
      "outputs": [
        {
          "output_type": "stream",
          "name": "stdout",
          "text": [
            "t\n",
            "h\n",
            "d\n"
          ]
        }
      ]
    },
    {
      "cell_type": "markdown",
      "source": [
        "## List Comprehension\n",
        "\n",
        "A way of creating or filtering list values using conditions\n",
        "\n",
        "  - Syntax: listname_new = [ _ for _ in listname_old if 'condition' ]"
      ],
      "metadata": {
        "id": "4rnC3cMFAG0d"
      }
    },
    {
      "cell_type": "code",
      "source": [
        "numbers = list(range(1, 21))\n",
        "print(numbers)\n",
        "\n",
        "evens = [num for num in numbers if num % 2 == 0]\n",
        "print(evens)"
      ],
      "metadata": {
        "colab": {
          "base_uri": "https://localhost:8080/"
        },
        "id": "nSAzOUogAOcA",
        "outputId": "52cdaa81-4497-407e-98b1-5b483de17576"
      },
      "execution_count": 101,
      "outputs": [
        {
          "output_type": "stream",
          "name": "stdout",
          "text": [
            "[1, 2, 3, 4, 5, 6, 7, 8, 9, 10, 11, 12, 13, 14, 15, 16, 17, 18, 19, 20]\n",
            "[2, 4, 6, 8, 10, 12, 14, 16, 18, 20]\n"
          ]
        }
      ]
    },
    {
      "cell_type": "markdown",
      "source": [
        "## Dictionary Comprehension\n",
        "\n",
        "A way of creating or filtering dictionary keys / values using conditions\n",
        "\n",
        " - Syntax: dictname_new = { k:v for k, v in dictname_old if 'condition' }"
      ],
      "metadata": {
        "id": "k5ntHwyVBJ3I"
      }
    },
    {
      "cell_type": "code",
      "source": [
        "# Filtering\n",
        "my_dict = {'a': 1, 'b': 2, 'c': 3, 'd': 4}\n",
        "filtered_dict = {k: v for k, v in my_dict.items() if v != 2}\n",
        "print(filtered_dict)\n",
        "\n",
        "# Swapping Values\n",
        "original_dict = {'a': 1, 'b': 2, 'c': 3}\n",
        "swapped_dict = {v: k for k, v in original_dict.items()}\n",
        "print(swapped_dict)"
      ],
      "metadata": {
        "colab": {
          "base_uri": "https://localhost:8080/"
        },
        "id": "DBqgulQLBvlk",
        "outputId": "6f459e47-9ac2-4b18-d631-cdd35bd54910"
      },
      "execution_count": 105,
      "outputs": [
        {
          "output_type": "stream",
          "name": "stdout",
          "text": [
            "{'a': 1, 'c': 3, 'd': 4}\n",
            "{1: 'a', 2: 'b', 3: 'c'}\n"
          ]
        }
      ]
    },
    {
      "cell_type": "markdown",
      "source": [
        "## List / Dictionary Modification\n",
        "\n",
        "A method (.__) can be used to modify certain aspects of lists and dictionaries\n",
        "\n",
        "Lists\n",
        "\n",
        "- list.append(): Add a new item to the end of the list\n",
        "- list. remove(): Remove the FIRST occurrence of the specified value\n",
        "- del list[]: Deletes a list's values by index rather than value\n",
        "\n",
        "Dictionaries:\n",
        "\n",
        "- dict.update({}): Add a new key-value pair or change an existing pair\n",
        "- del dict[]: Deletes a dictionary's key-value pair based on the specified key"
      ],
      "metadata": {
        "id": "DrLbLJTrCPpr"
      }
    },
    {
      "cell_type": "markdown",
      "source": [
        "## Try-Except\n",
        "\n",
        "Try-Except code blocks **tries** to run a block of code, and if an error is raised from attempting to run that code, then an **exception** is raised instead that is specified by the user.\n",
        "\n",
        "For example:"
      ],
      "metadata": {
        "id": "O1Ibkz0tDdwR"
      }
    },
    {
      "cell_type": "code",
      "source": [
        "eg_list = [1, 2, 3, 4, 5, 6]\n",
        "position = 9\n",
        "try:\n",
        "  print(eg_list[position])\n",
        "except:\n",
        "  print(f\"Invalid position. Expected a value between 0 and {len(eg_list)-1} but got '{position}' instead.\")"
      ],
      "metadata": {
        "colab": {
          "base_uri": "https://localhost:8080/"
        },
        "id": "pKUmZRQ-ECLF",
        "outputId": "e40326ad-4670-465f-b531-ecfe315864d5"
      },
      "execution_count": 113,
      "outputs": [
        {
          "output_type": "stream",
          "name": "stdout",
          "text": [
            "Invalid position. Expected a value between 0 and 5 but got '9' instead.\n"
          ]
        }
      ]
    }
  ]
}